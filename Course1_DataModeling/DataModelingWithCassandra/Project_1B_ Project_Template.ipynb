{
 "cells": [
  {
   "cell_type": "markdown",
   "metadata": {},
   "source": [
    "# Part I. ETL Pipeline for Pre-Processing the Files"
   ]
  },
  {
   "cell_type": "markdown",
   "metadata": {},
   "source": [
    "## PLEASE RUN THE FOLLOWING CODE FOR PRE-PROCESSING THE FILES"
   ]
  },
  {
   "cell_type": "markdown",
   "metadata": {},
   "source": [
    "#### Import Python packages "
   ]
  },
  {
   "cell_type": "code",
   "metadata": {
    "ExecuteTime": {
     "end_time": "2025-05-11T04:16:02.194779Z",
     "start_time": "2025-05-11T04:16:01.800643Z"
    }
   },
   "source": [
    "# Import Python packages \n",
    "import pandas as pd\n",
    "import cassandra\n",
    "import re\n",
    "import os\n",
    "import glob\n",
    "import numpy as np\n",
    "import json\n",
    "import csv"
   ],
   "outputs": [],
   "execution_count": 1
  },
  {
   "cell_type": "markdown",
   "metadata": {},
   "source": [
    "#### Creating list of filepaths to process original event csv data files"
   ]
  },
  {
   "cell_type": "code",
   "metadata": {},
   "source": [
    "# checking your current working directory\n",
    "print(os.getcwd())\n",
    "\n",
    "\n",
    "# Get your current folder and subfolder event data\n",
    "filepath = os.getcwd() + '/event_data'\n",
    "\n",
    "# Create a for loop to create a list of files and collect each filepath\n",
    "for root, dirs, files in os.walk(filepath):\n",
    "    \n",
    "# join the file path and roots with the subdirectories using glob\n",
    "    file_path_list = glob.glob(os.path.join(root,'*'))\n",
    "    print(file_path_list)"
   ],
   "outputs": [],
   "execution_count": null
  },
  {
   "cell_type": "markdown",
   "metadata": {},
   "source": [
    "#### Processing the files to create the data file csv that will be used for Apache Casssandra tables"
   ]
  },
  {
   "cell_type": "code",
   "metadata": {},
   "source": [
    "# initiating an empty list of rows that will be generated from each file\n",
    "full_data_rows_list = []\n",
    "\n",
    "# for every filepath in the file path list \n",
    "for f in file_path_list:\n",
    "\n",
    "# reading csv file \n",
    "    with open(f, 'r', encoding = 'utf8', newline='') as csvfile: \n",
    "        # creating a csv reader object \n",
    "        csvreader = csv.reader(csvfile) \n",
    "        next(csvreader)\n",
    "        \n",
    " # extracting each data row one by one and append it        \n",
    "        for line in csvreader:\n",
    "            print(line)\n",
    "            full_data_rows_list.append(line) \n",
    "            \n",
    "# uncomment the code below if you would like to get total number of rows \n",
    "#print(len(full_data_rows_list))\n",
    "# uncomment the code below if you would like to check to see what the list of event data rows will look like\n",
    "#print(full_data_rows_list)\n",
    "\n",
    "# creating a smaller event data csv file called event_datafile_full csv that will be used to insert data into the Apache Cassandra tables\n",
    "csv.register_dialect('myDialect', quoting=csv.QUOTE_ALL, skipinitialspace=True)\n",
    "\n",
    "with open('event_datafile_new.csv', 'w', encoding = 'utf8', newline='') as f:\n",
    "    writer = csv.writer(f, dialect='myDialect')\n",
    "    writer.writerow(['artist','firstName','gender','itemInSession','lastName','length',\\\n",
    "                'level','location','sessionId','song','userId'])\n",
    "    for row in full_data_rows_list:\n",
    "        if (row[0] == ''):\n",
    "            continue\n",
    "        writer.writerow((row[0], row[2], row[3], row[4], row[5], row[6], row[7], row[8], row[12], row[13], row[16]))\n"
   ],
   "outputs": [],
   "execution_count": null
  },
  {
   "cell_type": "code",
   "metadata": {
    "ExecuteTime": {
     "end_time": "2025-05-11T04:16:02.417306Z",
     "start_time": "2025-05-11T04:16:02.413216Z"
    }
   },
   "source": [
    "# check the number of rows in your csv file\n",
    "with open('event_datafile_new.csv', 'r', encoding = 'utf8') as f:\n",
    "    print(sum(1 for line in f))"
   ],
   "outputs": [
    {
     "name": "stdout",
     "output_type": "stream",
     "text": [
      "6821\n"
     ]
    }
   ],
   "execution_count": 4
  },
  {
   "cell_type": "markdown",
   "metadata": {},
   "source": [
    "# Part II. Complete the Apache Cassandra coding portion of your project. \n",
    "\n",
    "## Now you are ready to work with the CSV file titled <font color=red>event_datafile_new.csv</font>, located within the Workspace directory.  The event_datafile_new.csv contains the following columns: \n",
    "- artist \n",
    "- firstName of user\n",
    "- gender of user\n",
    "- item number in session\n",
    "- last name of user\n",
    "- length of the song\n",
    "- level (paid or free song)\n",
    "- location of the user\n",
    "- sessionId\n",
    "- song title\n",
    "- userId\n",
    "\n",
    "The image below is a screenshot of what the denormalized data should appear like in the <font color=red>**event_datafile_new.csv**</font> after the code above is run:<br>\n",
    "\n",
    "<img src=\"images/image_event_datafile_new.jpg\">"
   ]
  },
  {
   "cell_type": "markdown",
   "metadata": {},
   "source": [
    "## Begin writing your Apache Cassandra code in the cells below"
   ]
  },
  {
   "cell_type": "markdown",
   "metadata": {},
   "source": [
    "#### Creating a Cluster"
   ]
  },
  {
   "cell_type": "code",
   "metadata": {
    "ExecuteTime": {
     "end_time": "2025-05-11T04:16:02.660190Z",
     "start_time": "2025-05-11T04:16:02.435935Z"
    }
   },
   "source": [
    "# This should make a connection to a Cassandra instance your local machine \n",
    "# (127.0.0.1)\n",
    "\n",
    "from cassandra.cluster import Cluster\n",
    "cluster = Cluster()\n",
    "\n",
    "# To establish connection and begin executing queries, need a session\n",
    "session = cluster.connect()"
   ],
   "outputs": [],
   "execution_count": 5
  },
  {
   "cell_type": "markdown",
   "metadata": {},
   "source": [
    "#### Create Keyspace"
   ]
  },
  {
   "cell_type": "code",
   "metadata": {
    "ExecuteTime": {
     "end_time": "2025-05-11T04:16:02.669449Z",
     "start_time": "2025-05-11T04:16:02.665623Z"
    }
   },
   "source": [
    "try:\n",
    "    session.execute(\"CREATE KEYSPACE IF NOT EXISTS sparkify \\\n",
    "                    WITH REPLICATION = \\\n",
    "                    { 'class' : 'SimpleStrategy', 'replication_factor' : 1 };\")\n",
    "except Exception as e:\n",
    "    print(e)"
   ],
   "outputs": [],
   "execution_count": 6
  },
  {
   "cell_type": "markdown",
   "metadata": {},
   "source": [
    "#### Set Keyspace"
   ]
  },
  {
   "cell_type": "code",
   "metadata": {
    "ExecuteTime": {
     "end_time": "2025-05-11T04:16:02.678055Z",
     "start_time": "2025-05-11T04:16:02.674810Z"
    }
   },
   "source": [
    "try:\n",
    "    session.set_keyspace('sparkify')\n",
    "except Exception as e:\n",
    "    print(e)"
   ],
   "outputs": [],
   "execution_count": 7
  },
  {
   "cell_type": "markdown",
   "metadata": {},
   "source": [
    "### Now we need to create tables to run the following queries. Remember, with Apache Cassandra you model the database tables on the queries you want to run."
   ]
  },
  {
   "metadata": {},
   "cell_type": "markdown",
   "source": [
    "### Table Name: songs_by_session\n",
    "**Purpose:**\n",
    "- To retrieve song play details (artist name, song name, song length) for a specific session and item within that session.\n",
    "\n",
    "**Primary Key:**\n",
    "- **Partition Key:**\n",
    "`session_id`\n",
    "-> This partitions the data by session, meaning all data for the same session goes to the same node.\n",
    "\n",
    "- **Clustering Key:**\n",
    "`item_in_session`\n",
    "-> This orders songs within a session by the sequence in which they were played, enabling queries like \"which song was item 4 in session 338\"\n",
    "\n",
    "**Reasoning:**\n",
    "- This schema supports fast, efficient lookups using a known `session_id` and `item_in_session`(as per query requirement)\n",
    "- It enables us to uniquely identify each song play in a session by its order(ItemInSession)"
   ]
  },
  {
   "metadata": {
    "ExecuteTime": {
     "end_time": "2025-05-11T04:16:02.956262Z",
     "start_time": "2025-05-11T04:16:02.682513Z"
    }
   },
   "cell_type": "code",
   "source": [
    "## sessionId = 338, and itemInSession = 4\n",
    "\n",
    "query = \"CREATE TABLE IF NOT EXISTS songs_by_session\"\n",
    "query = query + \"(session_id int, item_in_session int, artist_name text, \\\n",
    "                    song_name text, song_length float, \\\n",
    "                    PRIMARY KEY (session_id, item_in_session));\"\n",
    "\n",
    "try:\n",
    "    session.execute(query)\n",
    "except Exception as e:\n",
    "    print(e)"
   ],
   "outputs": [],
   "execution_count": 8
  },
  {
   "cell_type": "code",
   "metadata": {
    "scrolled": false,
    "ExecuteTime": {
     "end_time": "2025-05-11T04:16:04.691319Z",
     "start_time": "2025-05-11T04:16:02.964667Z"
    }
   },
   "source": [
    "file = 'event_datafile_new.csv'\n",
    "\n",
    "with open(file, encoding = 'utf8') as f:\n",
    "    csvreader = csv.reader(f)\n",
    "    next(csvreader) # skip header\n",
    "    for line in csvreader:\n",
    "        query = \"INSERT INTO songs_by_session (session_id, item_in_session,artist_name, song_name, song_length)\"\n",
    "        query = query + \"VALUES (%s, %s, %s, %s, %s)\"\n",
    "        ## For e.g., to INSERT artist_name and user first_name, you would change the code below to `line[0], line[1]`\n",
    "        session.execute(query, (int(line[8]), int(line[3]), line[0], line[9], float(line[5])))"
   ],
   "outputs": [],
   "execution_count": 9
  },
  {
   "cell_type": "markdown",
   "metadata": {},
   "source": [
    "#### Do a SELECT to verify that the data have been inserted into each table"
   ]
  },
  {
   "cell_type": "code",
   "metadata": {
    "scrolled": true,
    "ExecuteTime": {
     "end_time": "2025-05-11T04:16:04.705164Z",
     "start_time": "2025-05-11T04:16:04.697656Z"
    }
   },
   "source": [
    "query = \"SELECT artist_name, song_name, song_length FROM songs_by_session WHERE session_id = 338 and item_in_session = 4\"\n",
    "\n",
    "try:\n",
    "    rows = session.execute(query)\n",
    "except Exception as e:\n",
    "    print(e)\n",
    "\n",
    "for row in rows:\n",
    "    print(row)"
   ],
   "outputs": [
    {
     "name": "stdout",
     "output_type": "stream",
     "text": [
      "Row(artist_name='Faithless', song_name='Music Matters (Mark Knight Dub)', song_length=495.30731201171875)\n"
     ]
    }
   ],
   "execution_count": 10
  },
  {
   "metadata": {},
   "cell_type": "markdown",
   "source": [
    "### Table Name: user_session_playlist\n",
    "**Purpose:**\n",
    "- To retrieve the playlist of a specific user during a specific session including the artist name, song title(ordered by play sequence), and user's first and last name\n",
    "\n",
    "**Primary Key:**\n",
    "- **Partition Key:**\n",
    "`(user_id, session_id)`\n",
    "-> Partitions the data by user and session, grouping all song plays from a particular user during a specific session together.\n",
    "\n",
    "- **Clustering Key:**\n",
    "`item_in_session`\n",
    "-> Orders the songs within the session by the order in which they were played.\n",
    "\n",
    "**Reasoning:**\n",
    "- This schema allows efficient queries when both `user_id` and `session_id` are known.\n",
    "- It enables retrieving an ordered playlist by using `item_in_Session` as the clustering key"
   ]
  },
  {
   "cell_type": "code",
   "metadata": {
    "ExecuteTime": {
     "end_time": "2025-05-11T04:16:06.718654Z",
     "start_time": "2025-05-11T04:16:04.715589Z"
    }
   },
   "source": [
    "## for userid = 10, sessionid = 182\n",
    "\n",
    "query1 = \"CREATE TABLE IF NOT EXISTS user_session_playlist\"\n",
    "query1 = query1 + \"(\\\n",
    "                    user_id int, \\\n",
    "                    session_id int, \\\n",
    "                    item_in_session int,\\\n",
    "                    user_fname text, \\\n",
    "                    user_lname text, \\\n",
    "                    artist_name text, \\\n",
    "                    song_name text,\\\n",
    "                    PRIMARY KEY ((user_id, session_id), item_in_session));\"\n",
    "\n",
    "try:\n",
    "    session.execute(query1)\n",
    "except Exception as e:\n",
    "    print(e)\n",
    "\n",
    "file = 'event_datafile_new.csv'\n",
    "\n",
    "with open(file, encoding = 'utf8') as f:\n",
    "    csvreader = csv.reader(f)\n",
    "    next(csvreader) # skip header\n",
    "    for line in csvreader:\n",
    "        query = \"INSERT INTO user_session_playlist (user_id, session_id, item_in_session, user_fname, user_lname, artist_name, song_name)\"\n",
    "        query = query + \"VALUES (%s, %s, %s, %s, %s, %s, %s)\"\n",
    "        session.execute(query, (int(line[10]), int(line[8]), int(line[3]), line[1], line[4], line[0], line[9]))\n",
    "\n"
   ],
   "outputs": [],
   "execution_count": 11
  },
  {
   "metadata": {
    "ExecuteTime": {
     "end_time": "2025-05-11T04:16:06.730218Z",
     "start_time": "2025-05-11T04:16:06.724741Z"
    }
   },
   "cell_type": "code",
   "source": [
    "query = \"SELECT artist_name, song_name, user_fname, user_lname FROM user_session_playlist WHERE user_id = 10 and session_id = 182\"\n",
    "\n",
    "try:\n",
    "    rows = session.execute(query)\n",
    "except Exception as e:\n",
    "    print(e)\n",
    "\n",
    "for row in rows:\n",
    "    print(row)"
   ],
   "outputs": [
    {
     "name": "stdout",
     "output_type": "stream",
     "text": [
      "Row(artist_name='Down To The Bone', song_name=\"Keep On Keepin' On\", user_fname='Sylvie', user_lname='Cruz')\n",
      "Row(artist_name='Three Drives', song_name='Greece 2000', user_fname='Sylvie', user_lname='Cruz')\n",
      "Row(artist_name='Sebastien Tellier', song_name='Kilometer', user_fname='Sylvie', user_lname='Cruz')\n",
      "Row(artist_name='Lonnie Gordon', song_name='Catch You Baby (Steve Pitron & Max Sanna Radio Edit)', user_fname='Sylvie', user_lname='Cruz')\n"
     ]
    }
   ],
   "execution_count": 12
  },
  {
   "metadata": {},
   "cell_type": "markdown",
   "source": [
    "### Table Name: song_listeners\n",
    "**Purpose:**\n",
    "- To retrieve the full names (first and last) of all users who listened to a specific song.\n",
    "\n",
    "**Primary Key:**\n",
    "- **Partition Key:**\n",
    "`song_name`\n",
    "-> Groups all user records by song, allowing efficient lookup of listeners for a given song title.\n",
    "\n",
    "- **Clustering Key:**\n",
    "`user_id`\n",
    "-> Ensures uniqueness of each user per song and allows future extensibility (e.g., to track listen count or timestamp)\n",
    "\n",
    "**Reasoning:**\n",
    "- This schema is optimized for queries that need to find all users who listened to a specific song.\n",
    "- Using `song_name` as the partition key enables quick access to all listeners of a given song, while `user_id` prevents duplicates and supports potential expansion."
   ]
  },
  {
   "cell_type": "code",
   "metadata": {
    "ExecuteTime": {
     "end_time": "2025-05-11T04:16:08.962605Z",
     "start_time": "2025-05-11T04:16:06.755085Z"
    }
   },
   "source": [
    "query3 = \"CREATE TABLE IF NOT EXISTS song_listeners\"\n",
    "query3 = query3 + \"(song_name text, \\\n",
    "                    user_id int, \\\n",
    "                    user_fname text, \\\n",
    "                    user_lname text, \\\n",
    "                    PRIMARY KEY (song_name, user_id));\"\n",
    "\n",
    "try:\n",
    "    session.execute(query3)\n",
    "except Exception as e:\n",
    "    print(e)\n",
    "\n",
    "file = 'event_datafile_new.csv'\n",
    "\n",
    "with open(file, encoding = 'utf8') as f:\n",
    "    csvreader = csv.reader(f)\n",
    "    next(csvreader) # skip header\n",
    "    for line in csvreader:\n",
    "        query = \"INSERT INTO song_listeners (song_name, user_id, user_fname, user_lname)\"\n",
    "        query = query + \"VALUES (%s, %s, %s, %s)\"\n",
    "        session.execute(query, (line[9], int(line[10]), line[1], line[4]))\n",
    "\n",
    "\n"
   ],
   "outputs": [],
   "execution_count": 13
  },
  {
   "cell_type": "code",
   "metadata": {
    "ExecuteTime": {
     "end_time": "2025-05-11T04:16:14.492574Z",
     "start_time": "2025-05-11T04:16:14.480033Z"
    }
   },
   "source": [
    "query = \"SELECT user_fname, user_lname FROM song_listeners WHERE song_name = 'All Hands Against His Own'\"\n",
    "\n",
    "try:\n",
    "    rows = session.execute(query)\n",
    "except Exception as e:\n",
    "    print(e)\n",
    "\n",
    "for row in rows:\n",
    "    print(row)"
   ],
   "outputs": [
    {
     "name": "stdout",
     "output_type": "stream",
     "text": [
      "Row(user_fname='Jacqueline', user_lname='Lynch')\n",
      "Row(user_fname='Tegan', user_lname='Levine')\n",
      "Row(user_fname='Sara', user_lname='Johnson')\n"
     ]
    }
   ],
   "execution_count": 14
  },
  {
   "cell_type": "markdown",
   "metadata": {},
   "source": [
    "### Drop the tables before closing out the sessions"
   ]
  },
  {
   "cell_type": "code",
   "metadata": {
    "ExecuteTime": {
     "end_time": "2025-05-11T04:16:16.487674Z",
     "start_time": "2025-05-11T04:16:14.518318Z"
    }
   },
   "source": [
    "query1 = (\"DROP TABLE IF EXISTS songs_by_session\")\n",
    "query2 = (\"DROP TABLE IF EXISTS user_session_playlist\")\n",
    "query3 = (\"DROP TABLE IF EXISTS song_listeners\")\n",
    "\n",
    "try:\n",
    "    session.execute(query1)\n",
    "    session.execute(query2)\n",
    "    session.execute(query3)\n",
    "except Exception as e:\n",
    "    print(e)\n"
   ],
   "outputs": [],
   "execution_count": 15
  },
  {
   "cell_type": "markdown",
   "metadata": {},
   "source": [
    "### Close the session and cluster connection¶"
   ]
  },
  {
   "cell_type": "code",
   "metadata": {
    "ExecuteTime": {
     "end_time": "2025-05-11T04:16:16.578428Z",
     "start_time": "2025-05-11T04:16:16.493280Z"
    }
   },
   "source": [
    "session.shutdown()\n",
    "cluster.shutdown()"
   ],
   "outputs": [],
   "execution_count": 16
  },
  {
   "metadata": {},
   "cell_type": "code",
   "outputs": [],
   "execution_count": null,
   "source": ""
  }
 ],
 "metadata": {
  "kernelspec": {
   "display_name": "Python 3",
   "language": "python",
   "name": "python3"
  },
  "language_info": {
   "codemirror_mode": {
    "name": "ipython",
    "version": 3
   },
   "file_extension": ".py",
   "mimetype": "text/x-python",
   "name": "python",
   "nbconvert_exporter": "python",
   "pygments_lexer": "ipython3",
   "version": "3.6.3"
  }
 },
 "nbformat": 4,
 "nbformat_minor": 2
}
